{
 "cells": [
  {
   "cell_type": "code",
   "execution_count": 1,
   "id": "edac8046-38fb-41d1-a84c-914601a0f2b7",
   "metadata": {},
   "outputs": [
    {
     "name": "stdout",
     "output_type": "stream",
     "text": [
      "Requirement already satisfied: streamlit in c:\\users\\shreya\\anaconda3\\lib\\site-packages (1.32.0)\n",
      "Requirement already satisfied: altair<6,>=4.0 in c:\\users\\shreya\\anaconda3\\lib\\site-packages (from streamlit) (5.0.1)\n",
      "Requirement already satisfied: blinker<2,>=1.0.0 in c:\\users\\shreya\\anaconda3\\lib\\site-packages (from streamlit) (1.6.2)\n",
      "Requirement already satisfied: cachetools<6,>=4.0 in c:\\users\\shreya\\anaconda3\\lib\\site-packages (from streamlit) (5.3.3)\n",
      "Requirement already satisfied: click<9,>=7.0 in c:\\users\\shreya\\anaconda3\\lib\\site-packages (from streamlit) (8.1.7)\n",
      "Requirement already satisfied: numpy<2,>=1.19.3 in c:\\users\\shreya\\anaconda3\\lib\\site-packages (from streamlit) (1.26.4)\n",
      "Requirement already satisfied: packaging<24,>=16.8 in c:\\users\\shreya\\anaconda3\\lib\\site-packages (from streamlit) (23.2)\n",
      "Requirement already satisfied: pandas<3,>=1.3.0 in c:\\users\\shreya\\anaconda3\\lib\\site-packages (from streamlit) (2.2.2)\n",
      "Requirement already satisfied: pillow<11,>=7.1.0 in c:\\users\\shreya\\anaconda3\\lib\\site-packages (from streamlit) (10.3.0)\n",
      "Requirement already satisfied: protobuf<5,>=3.20 in c:\\users\\shreya\\anaconda3\\lib\\site-packages (from streamlit) (3.20.3)\n",
      "Requirement already satisfied: pyarrow>=7.0 in c:\\users\\shreya\\anaconda3\\lib\\site-packages (from streamlit) (14.0.2)\n",
      "Requirement already satisfied: requests<3,>=2.27 in c:\\users\\shreya\\anaconda3\\lib\\site-packages (from streamlit) (2.32.2)\n",
      "Requirement already satisfied: rich<14,>=10.14.0 in c:\\users\\shreya\\anaconda3\\lib\\site-packages (from streamlit) (13.3.5)\n",
      "Requirement already satisfied: tenacity<9,>=8.1.0 in c:\\users\\shreya\\anaconda3\\lib\\site-packages (from streamlit) (8.2.2)\n",
      "Requirement already satisfied: toml<2,>=0.10.1 in c:\\users\\shreya\\anaconda3\\lib\\site-packages (from streamlit) (0.10.2)\n",
      "Requirement already satisfied: typing-extensions<5,>=4.3.0 in c:\\users\\shreya\\anaconda3\\lib\\site-packages (from streamlit) (4.11.0)\n",
      "Requirement already satisfied: gitpython!=3.1.19,<4,>=3.0.7 in c:\\users\\shreya\\anaconda3\\lib\\site-packages (from streamlit) (3.1.37)\n",
      "Requirement already satisfied: pydeck<1,>=0.8.0b4 in c:\\users\\shreya\\anaconda3\\lib\\site-packages (from streamlit) (0.8.0)\n",
      "Requirement already satisfied: tornado<7,>=6.0.3 in c:\\users\\shreya\\anaconda3\\lib\\site-packages (from streamlit) (6.4.1)\n",
      "Requirement already satisfied: watchdog>=2.1.5 in c:\\users\\shreya\\anaconda3\\lib\\site-packages (from streamlit) (4.0.1)\n",
      "Requirement already satisfied: jinja2 in c:\\users\\shreya\\anaconda3\\lib\\site-packages (from altair<6,>=4.0->streamlit) (3.1.4)\n",
      "Requirement already satisfied: jsonschema>=3.0 in c:\\users\\shreya\\anaconda3\\lib\\site-packages (from altair<6,>=4.0->streamlit) (4.19.2)\n",
      "Requirement already satisfied: toolz in c:\\users\\shreya\\anaconda3\\lib\\site-packages (from altair<6,>=4.0->streamlit) (0.12.0)\n",
      "Requirement already satisfied: colorama in c:\\users\\shreya\\anaconda3\\lib\\site-packages (from click<9,>=7.0->streamlit) (0.4.6)\n",
      "Requirement already satisfied: gitdb<5,>=4.0.1 in c:\\users\\shreya\\anaconda3\\lib\\site-packages (from gitpython!=3.1.19,<4,>=3.0.7->streamlit) (4.0.7)\n",
      "Requirement already satisfied: python-dateutil>=2.8.2 in c:\\users\\shreya\\anaconda3\\lib\\site-packages (from pandas<3,>=1.3.0->streamlit) (2.9.0.post0)\n",
      "Requirement already satisfied: pytz>=2020.1 in c:\\users\\shreya\\anaconda3\\lib\\site-packages (from pandas<3,>=1.3.0->streamlit) (2024.1)\n",
      "Requirement already satisfied: tzdata>=2022.7 in c:\\users\\shreya\\anaconda3\\lib\\site-packages (from pandas<3,>=1.3.0->streamlit) (2023.3)\n",
      "Requirement already satisfied: charset-normalizer<4,>=2 in c:\\users\\shreya\\anaconda3\\lib\\site-packages (from requests<3,>=2.27->streamlit) (2.0.4)\n",
      "Requirement already satisfied: idna<4,>=2.5 in c:\\users\\shreya\\anaconda3\\lib\\site-packages (from requests<3,>=2.27->streamlit) (3.7)\n",
      "Requirement already satisfied: urllib3<3,>=1.21.1 in c:\\users\\shreya\\anaconda3\\lib\\site-packages (from requests<3,>=2.27->streamlit) (2.2.2)\n",
      "Requirement already satisfied: certifi>=2017.4.17 in c:\\users\\shreya\\anaconda3\\lib\\site-packages (from requests<3,>=2.27->streamlit) (2024.6.2)\n",
      "Requirement already satisfied: markdown-it-py<3.0.0,>=2.2.0 in c:\\users\\shreya\\anaconda3\\lib\\site-packages (from rich<14,>=10.14.0->streamlit) (2.2.0)\n",
      "Requirement already satisfied: pygments<3.0.0,>=2.13.0 in c:\\users\\shreya\\anaconda3\\lib\\site-packages (from rich<14,>=10.14.0->streamlit) (2.15.1)\n",
      "Requirement already satisfied: smmap<5,>=3.0.1 in c:\\users\\shreya\\anaconda3\\lib\\site-packages (from gitdb<5,>=4.0.1->gitpython!=3.1.19,<4,>=3.0.7->streamlit) (4.0.0)\n",
      "Requirement already satisfied: MarkupSafe>=2.0 in c:\\users\\shreya\\anaconda3\\lib\\site-packages (from jinja2->altair<6,>=4.0->streamlit) (2.1.3)\n",
      "Requirement already satisfied: attrs>=22.2.0 in c:\\users\\shreya\\anaconda3\\lib\\site-packages (from jsonschema>=3.0->altair<6,>=4.0->streamlit) (23.1.0)\n",
      "Requirement already satisfied: jsonschema-specifications>=2023.03.6 in c:\\users\\shreya\\anaconda3\\lib\\site-packages (from jsonschema>=3.0->altair<6,>=4.0->streamlit) (2023.7.1)\n",
      "Requirement already satisfied: referencing>=0.28.4 in c:\\users\\shreya\\anaconda3\\lib\\site-packages (from jsonschema>=3.0->altair<6,>=4.0->streamlit) (0.30.2)\n",
      "Requirement already satisfied: rpds-py>=0.7.1 in c:\\users\\shreya\\anaconda3\\lib\\site-packages (from jsonschema>=3.0->altair<6,>=4.0->streamlit) (0.10.6)\n",
      "Requirement already satisfied: mdurl~=0.1 in c:\\users\\shreya\\anaconda3\\lib\\site-packages (from markdown-it-py<3.0.0,>=2.2.0->rich<14,>=10.14.0->streamlit) (0.1.0)\n",
      "Requirement already satisfied: six>=1.5 in c:\\users\\shreya\\anaconda3\\lib\\site-packages (from python-dateutil>=2.8.2->pandas<3,>=1.3.0->streamlit) (1.16.0)\n"
     ]
    }
   ],
   "source": [
    "!pip install streamlit"
   ]
  },
  {
   "cell_type": "code",
   "execution_count": 2,
   "id": "927c376a-2bc9-47bd-85c5-4624b75d91cf",
   "metadata": {},
   "outputs": [
    {
     "name": "stdout",
     "output_type": "stream",
     "text": [
      "Requirement already satisfied: matplotlib in c:\\users\\shreya\\anaconda3\\lib\\site-packages (3.8.4)\n",
      "Requirement already satisfied: contourpy>=1.0.1 in c:\\users\\shreya\\anaconda3\\lib\\site-packages (from matplotlib) (1.2.0)\n",
      "Requirement already satisfied: cycler>=0.10 in c:\\users\\shreya\\anaconda3\\lib\\site-packages (from matplotlib) (0.11.0)\n",
      "Requirement already satisfied: fonttools>=4.22.0 in c:\\users\\shreya\\anaconda3\\lib\\site-packages (from matplotlib) (4.51.0)\n",
      "Requirement already satisfied: kiwisolver>=1.3.1 in c:\\users\\shreya\\anaconda3\\lib\\site-packages (from matplotlib) (1.4.4)\n",
      "Requirement already satisfied: numpy>=1.21 in c:\\users\\shreya\\anaconda3\\lib\\site-packages (from matplotlib) (1.26.4)\n",
      "Requirement already satisfied: packaging>=20.0 in c:\\users\\shreya\\anaconda3\\lib\\site-packages (from matplotlib) (23.2)\n",
      "Requirement already satisfied: pillow>=8 in c:\\users\\shreya\\anaconda3\\lib\\site-packages (from matplotlib) (10.3.0)\n",
      "Requirement already satisfied: pyparsing>=2.3.1 in c:\\users\\shreya\\anaconda3\\lib\\site-packages (from matplotlib) (3.0.9)\n",
      "Requirement already satisfied: python-dateutil>=2.7 in c:\\users\\shreya\\anaconda3\\lib\\site-packages (from matplotlib) (2.9.0.post0)\n",
      "Requirement already satisfied: six>=1.5 in c:\\users\\shreya\\anaconda3\\lib\\site-packages (from python-dateutil>=2.7->matplotlib) (1.16.0)\n",
      "Note: you may need to restart the kernel to use updated packages.\n"
     ]
    }
   ],
   "source": [
    "pip install matplotlib"
   ]
  },
  {
   "cell_type": "code",
   "execution_count": 3,
   "id": "5942c60f-8cc8-43c4-86da-79bf2b90064d",
   "metadata": {},
   "outputs": [
    {
     "name": "stdout",
     "output_type": "stream",
     "text": [
      "Requirement already satisfied: scikit-learn in c:\\users\\shreya\\anaconda3\\lib\\site-packages (1.4.2)\n",
      "Requirement already satisfied: numpy>=1.19.5 in c:\\users\\shreya\\anaconda3\\lib\\site-packages (from scikit-learn) (1.26.4)\n",
      "Requirement already satisfied: scipy>=1.6.0 in c:\\users\\shreya\\anaconda3\\lib\\site-packages (from scikit-learn) (1.13.1)\n",
      "Requirement already satisfied: joblib>=1.2.0 in c:\\users\\shreya\\anaconda3\\lib\\site-packages (from scikit-learn) (1.4.2)\n",
      "Requirement already satisfied: threadpoolctl>=2.0.0 in c:\\users\\shreya\\anaconda3\\lib\\site-packages (from scikit-learn) (2.2.0)\n",
      "Note: you may need to restart the kernel to use updated packages.\n"
     ]
    }
   ],
   "source": [
    "pip install scikit-learn"
   ]
  },
  {
   "cell_type": "code",
   "execution_count": 4,
   "id": "74522951-fd7d-4db5-919c-3e84fc865d90",
   "metadata": {},
   "outputs": [
    {
     "name": "stdout",
     "output_type": "stream",
     "text": [
      "Collecting PyPDF2\n",
      "  Downloading pypdf2-3.0.1-py3-none-any.whl.metadata (6.8 kB)\n",
      "Downloading pypdf2-3.0.1-py3-none-any.whl (232 kB)\n",
      "   ---------------------------------------- 0.0/232.6 kB ? eta -:--:--\n",
      "   ------ -------------------------------- 41.0/232.6 kB 991.0 kB/s eta 0:00:01\n",
      "   ------------------------------- -------- 184.3/232.6 kB 2.2 MB/s eta 0:00:01\n",
      "   ---------------------------------------- 232.6/232.6 kB 2.4 MB/s eta 0:00:00\n",
      "Installing collected packages: PyPDF2\n",
      "Successfully installed PyPDF2-3.0.1\n"
     ]
    }
   ],
   "source": [
    "!pip install PyPDF2"
   ]
  },
  {
   "cell_type": "code",
   "execution_count": 5,
   "id": "fa24b588-4a3a-4b30-afa8-d5612f7986d0",
   "metadata": {},
   "outputs": [],
   "source": [
    "import streamlit as st\n",
    "from PyPDF2 import PdfReader\n",
    "import pandas as pd\n",
    "from sklearn.feature_extraction.text import TfidfVectorizer\n",
    "from sklearn.metrics.pairwise import cosine_similarity\n"
   ]
  },
  {
   "cell_type": "code",
   "execution_count": 6,
   "id": "a3899d47-6114-4061-ba1d-8298b6b0038c",
   "metadata": {},
   "outputs": [],
   "source": [
    "file = r\"C:\\Users\\shreya\\Desktop\\AI Powered Resume Screening and Ranking System\\Shreya  Ganesh Shinde Resume.pdf\""
   ]
  },
  {
   "cell_type": "code",
   "execution_count": 8,
   "id": "c6981be3-7de3-40d8-be10-306d7544defc",
   "metadata": {},
   "outputs": [],
   "source": [
    "pdf = PdfReader(file)\n",
    "text = \"\"\n",
    "for page in pdf.pages:\n",
    "    text += page.extract_text()"
   ]
  },
  {
   "cell_type": "code",
   "execution_count": 9,
   "id": "f8fde6d6-e2cb-45ac-ad70-f9e8a20f12e7",
   "metadata": {},
   "outputs": [
    {
     "name": "stdout",
     "output_type": "stream",
     "text": [
      "SHREYA SHINDE\n",
      "SUMMARY\n",
      "Highly motivated intern specializing in cloud technologies, data analytics, and Java development.\n",
      "Seeking opportunities to apply technical skills in real-time projects and contribute innovative solutions.\n",
      "EDUCATION\n",
      "Bachelor of Engineering in Information Technology(SPPU) \n",
      "Paravatibai Genba Moze College of Engineering, Pune \n",
      "WORK EXPERIENCE\n",
      "Cloud Intern (Hybrid) -KasNet Technologies Pvt. Ltd., Pune2021 - 2025\n",
      "BE(SGPA - 9.40)\n",
      "PROJECTS\n",
      "Full Stack Movie Review Application (Active) \n",
      "CERTIFICATIONS\n",
      "EXTRACURRICULAR ACTIVITIESHadapsar, Pune-28\n",
      "Linkedln | Github | shreyashinde2256@gmail.com | 9209213137\n",
      "Microsoft Certified: Azure Fundamentals (AZ-900) | Certificate \n",
      " Accenture North America - Data Analytics and Visualization Job Simulation (Forage) | Certificate\n",
      "Business Associate at Rallyware \n",
      "- Rallyware was founded in 2012 at the Massachusetts Institute of Technology with the core idea o\n",
      " of automating and scaling engagement of distributed groups through technology (Volunteer work) \n",
      " \n",
      " Jan 2024 - Feb 2024\n",
      "Acquired in-depth knowledge of Microsoft Azure (AZ-900), including Virtual Machines, Storage\n",
      "Services, and more.\n",
      "Developed skills in AI-900 and Power BI for data visualization and business intelligence.\n",
      "Alongwith , developed skills like Presentaion\n",
      "Student Intern (Remote) -Edunet Foundation Feb 2024 - Apr 2024\n",
      "Collaborated with EY GDS (Ernst & Young – Global Delivery Services) and AICTE to enhance\n",
      "advanced data analytics skills.\n",
      "Completed a Power BI project focused on 'Healthcare Data Analytics' with guidance from a mentor.\n",
      "Gained proficiency in data visualization and business intelligence tools.\n",
      "Present - 2024\n",
      "Developing a movie review application for user-generated reviews.\n",
      "Technologies/Tools: MongoDB (Database), Java, Spring Boot (Backend), React (Frontend),\n",
      "Eclipse IDE, MongoDB Compass.\n",
      "Email/SMS Spam Detection | Link Apr - 2024\n",
      "Implemented spam detection for emails and SMS using Streamlit.\n",
      "Technologies/Tools: Python, Machine Learning Algorithms, Jupyter Notebook, PyCharm.\n",
      "Sales Data Analysis Dashboard | Link Feb - 2024\n",
      "Key Insights: Total Revenue and Sales Quantity, Revenue by Markets, Sales Quantity by Markets,\n",
      "Revenue Trend Analysis, Top 5 Customers & Products by Revenue.\n",
      "Technologies/Tools: Power BI, MySQL\n",
      "TECHNICAL SKILLS\n",
      "Languages: C, C++, Core Java, Python, JavaScript, HTML, CSS\n",
      "Databases: MySQL, MongoDB, Oracle, SQLite\n",
      "Developer Tools: Git, Gitbash, VSCode, PyCharm, Jupyter Notebook, Eclipse IDE\n",
      "Frameworks: Bootstrap, jQuery, WordPress, Streamlit\n",
      "Data Visualization: Power BI, Tableau, Machine Learning\n",
      "Cloud Computing: Microsoft Azure (AZ-900), AI-900 (Computer Vision)\n",
      "Others: DBMS, DevOps\n",
      "150+ Questions Solved on Leetcode | Leetcode\n",
      "300+ Questions Solved on GeeksforGeeks | geeksforgeeks\n"
     ]
    }
   ],
   "source": [
    "print(text)"
   ]
  },
  {
   "cell_type": "code",
   "execution_count": 10,
   "id": "bc465de3-299b-49d4-a5df-b5ddf27fc61f",
   "metadata": {},
   "outputs": [],
   "source": [
    "#Function to extract text from PDF\n",
    "def extract_text_from_pdf(file):\n",
    "    pdf = PdfReader(file)\n",
    "    text = \"\"\n",
    "    for page in pdf.pages:\n",
    "        text += page.extract_text()\n",
    "    return text"
   ]
  },
  {
   "cell_type": "code",
   "execution_count": 17,
   "id": "7a09e8ed-41da-4b03-9703-691d98fd6204",
   "metadata": {},
   "outputs": [],
   "source": [
    "#Function to rank resumes based on job description\n",
    "def rank_resumes(job_description, resumes):\n",
    "    #combine job description with resumes\n",
    "    documents = [job_description] +resumes\n",
    "    vectorizer = TfidfVectorizer().fit_transform(documents)\n",
    "    vectors = vectorizer.toarray()\n",
    "\n",
    "    #calculate cosine similarity\n",
    "    job_description_vector = vectors[0]\n",
    "    resume_vectors = vectors [1:]\n",
    "    cosine_similarities = cosine_similarity([job_description_vector],resume_vectors).flatten()\n",
    "\n",
    "    return cosine_similarities"
   ]
  },
  {
   "cell_type": "code",
   "execution_count": 18,
   "id": "da078705-7dca-4fd9-a9b2-95513ca05113",
   "metadata": {},
   "outputs": [],
   "source": [
    "#Streamlit app\n",
    "st.title(\"AI Resume Screening & Candidate Ranking System\")\n",
    "#Job description input\n",
    "st.header(\"Job Description\")\n",
    "job_description = st.text_area (\"Enter the job description\")"
   ]
  },
  {
   "cell_type": "code",
   "execution_count": 19,
   "id": "dda7841e-00af-455b-8fae-ffcfcb31a29d",
   "metadata": {},
   "outputs": [],
   "source": [
    "#File uploader\n",
    "st.header(\"upload Resumes\")\n",
    "uploaded_files = st.file_uploader(\"Upload PDF Files\", type=[\"pdf\"], accept_multiple_files= True)"
   ]
  },
  {
   "cell_type": "code",
   "execution_count": 21,
   "id": "63cfa1eb-5ebb-4485-bbc3-37889f0d71cc",
   "metadata": {},
   "outputs": [],
   "source": [
    "if uploaded_files and job_description:\n",
    "    st.header(\"Ranking Resumes\")\n",
    "    \n",
    "    resumes = []\n",
    "    for file in uploaded_files:\n",
    "        text = extract_text_from_pdf(file)\n",
    "        resumes.append(text)\n",
    "\n",
    "    #Rank resumes\n",
    "    scores = rank_resumes(job_description, resumes)\n",
    "\n",
    "    #Display scores\n",
    "    results = pd.DataFrame({\"Resume\":[file.name for file in uploaded_files],\"Score\":scores})\n",
    "    results = results.sort_values(by=\"Score\", ascending=False)\n",
    "\n",
    "    \n",
    "    st.write(results)\n"
   ]
  },
  {
   "cell_type": "code",
   "execution_count": null,
   "id": "50f08def-5b53-4665-90f1-0744af6ee36e",
   "metadata": {},
   "outputs": [],
   "source": []
  },
  {
   "cell_type": "code",
   "execution_count": null,
   "id": "7cafefbf-c326-4ac8-9d4e-6b39d031db3c",
   "metadata": {},
   "outputs": [],
   "source": []
  },
  {
   "cell_type": "code",
   "execution_count": null,
   "id": "056d34b9-79e8-4b26-a98c-43f004b60eb7",
   "metadata": {},
   "outputs": [],
   "source": []
  },
  {
   "cell_type": "code",
   "execution_count": null,
   "id": "0454ce44-4149-47ae-a5fc-ca9224b6952d",
   "metadata": {},
   "outputs": [],
   "source": []
  },
  {
   "cell_type": "code",
   "execution_count": null,
   "id": "13346808-d051-49a7-bbda-517a2c01bf52",
   "metadata": {},
   "outputs": [],
   "source": []
  }
 ],
 "metadata": {
  "kernelspec": {
   "display_name": "Python 3 (ipykernel)",
   "language": "python",
   "name": "python3"
  },
  "language_info": {
   "codemirror_mode": {
    "name": "ipython",
    "version": 3
   },
   "file_extension": ".py",
   "mimetype": "text/x-python",
   "name": "python",
   "nbconvert_exporter": "python",
   "pygments_lexer": "ipython3",
   "version": "3.12.4"
  }
 },
 "nbformat": 4,
 "nbformat_minor": 5
}
